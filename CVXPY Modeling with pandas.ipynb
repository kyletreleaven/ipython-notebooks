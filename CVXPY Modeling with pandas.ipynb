{
 "metadata": {
  "name": "",
  "signature": "sha256:a05a63d0847437975ed1a6360847b573346185826e217952f4a3a4d8d10e33f6"
 },
 "nbformat": 3,
 "nbformat_minor": 0,
 "worksheets": [
  {
   "cells": [
    {
     "cell_type": "heading",
     "level": 1,
     "metadata": {},
     "source": [
      "Introduction"
     ]
    },
    {
     "cell_type": "markdown",
     "metadata": {},
     "source": [
      "Mathematical programming is an extremely useful problem-solving paradigm that is relevant in some way to practically every applied engineering discipline.  One of the most revolutionary periods of my technical career was when I was introduced to mathematical programming."
     ]
    },
    {
     "cell_type": "markdown",
     "metadata": {},
     "source": [
      "Historically, there has been a curiously large impedence mismatch between communities that actually work on optimization and other engineering and information technology disciplines, although that gap has shrunk tremendously in recent years."
     ]
    },
    {
     "cell_type": "markdown",
     "metadata": {},
     "source": [
      "Part of this impedence mismatch is due to the fact that the optimization community focuses largely on the proliferation of fast, general-purpose solvers, which operate on mathematical programs in various standard forms.  Standard forms generally require data in various combinations of vectors and matrices."
     ]
    },
    {
     "cell_type": "markdown",
     "metadata": {},
     "source": [
      "In constrast, modeling languages..."
     ]
    },
    {
     "cell_type": "heading",
     "level": 1,
     "metadata": {},
     "source": [
      "Example: Stock Scaling Problem"
     ]
    },
    {
     "cell_type": "markdown",
     "metadata": {},
     "source": [
      "Let's consider an example:\n",
      "\n",
      "Suppose we are in charge of a warehouse that holds various types of stock, $S = \\{ s^1, s^2, \\ldots, s^m \\}$.\n",
      "At our disposal is a finite set of stores, $T = \\{ t^1, t^2, \\ldots, t^n \\}$.\n",
      "\n",
      "We have already received some quantity of stock, and placed it in stores.\n",
      "Let ${\\bf q}$ denote the existing storage profile, so that ${\\bf q}[s,t]$ is the amount of stock $s \\in S$ at a store $t \\in T$.\n",
      "\n",
      "The stores themselves have finite capacity, so that at most $c[t]$ total quantity of stock may be stored at $t$.\n",
      "\n",
      "Additionally, we have some priority constraints.\n",
      "That is, suppose that stock of type $s \\in S$ has priority $\\phi_S[s]$.\n",
      "Then we only wish to put any future quantity of stock of type $s$ into a store $t$ if it has a priority rating $\\phi_T[t] \\geq \\phi_S[s]$.\n",
      "The priorities $\\phi_S$ and $\\phi_T$ are given.\n",
      "\n",
      "We are interested to know how much additional we can places into stores.\n",
      "We can order as much stock as we wish, but "
     ]
    },
    {
     "cell_type": "heading",
     "level": 1,
     "metadata": {},
     "source": [
      "Model"
     ]
    },
    {
     "cell_type": "markdown",
     "metadata": {},
     "source": [
      "Given\n",
      "\n",
      "-Types of stock $S = \\{ s^1, s^2, \\ldots, s^m \\}$\n",
      "\n",
      "-Stores $T = \\{ t^1, t^2, \\ldots, t^n \\}$\n",
      "\n",
      "-Existing stock ${\\bf q} : S \\times T \\to {\\mathbb R}_{\\geq 0}$\n",
      "\n",
      "-Store capacities $c : T \\to {\\mathbb R}_{\\geq 0}$\n",
      "\n",
      "-Priorities $\\phi_S : S \\to {\\mathbb R}$ and $\\phi_T : T \\to {\\mathbb R}$ (see below)"
     ]
    },
    {
     "cell_type": "markdown",
     "metadata": {},
     "source": [
      "Find\n",
      "\n",
      "-Stock multiplier: $y \\geq 0$ and\n",
      "\n",
      "-Additional stock: ${\\bf x} : S \\times T \\to {\\mathbb R}_{\\geq 0}$"
     ]
    },
    {
     "cell_type": "markdown",
     "metadata": {},
     "source": [
      "Such that:\n",
      "\n",
      "-Stock is added in proportion by type to existing stock:\n",
      "$\\sum_{t \\in T} {\\bf q}[s,t] + {\\bf x}[s,t] = y \\times {\\bf q}[s]$\n",
      "for all $s \\in S$\n",
      "\n",
      "-Store capacities are respected:\n",
      "$\\sum_{s \\in S} {\\bf q}[s,t] + {\\bf x}[s,t] \\leq c[t]$ for all $t \\in T$\n",
      "\n",
      "-Additional stocks obey priority restrictions:\n",
      "${\\bf x}[s,t] \\leq 0$ for any $s,t$ such that $\\phi_T[t] < \\phi_S[s]$ "
     ]
    },
    {
     "cell_type": "heading",
     "level": 1,
     "metadata": {},
     "source": [
      "Modeling in Python with CVXPY and pandas"
     ]
    },
    {
     "cell_type": "code",
     "collapsed": false,
     "input": [
      "import numpy as np\n",
      "import cvxpy\n",
      "import pandas as pd"
     ],
     "language": "python",
     "metadata": {},
     "outputs": [],
     "prompt_number": 8
    },
    {
     "cell_type": "markdown",
     "metadata": {},
     "source": [
      "Let's setup the problem domain, with the set of stock types and the stores."
     ]
    },
    {
     "cell_type": "code",
     "collapsed": false,
     "input": [
      "STOCKS = ['A','B','C']\n",
      "STORES = [ 1, 2, 3, 4 ]"
     ],
     "language": "python",
     "metadata": {},
     "outputs": [],
     "prompt_number": 28
    },
    {
     "cell_type": "markdown",
     "metadata": {},
     "source": [
      "Let's specify the stock priorities and the store priority ratings as well."
     ]
    },
    {
     "cell_type": "code",
     "collapsed": false,
     "input": [
      "# stock of priority x must be inducted to a store of priority >= x\n",
      "stock_priority = { 'A': 1, 'B': 2, 'C': 3 }\n",
      "store_priority = { 1: 1, 2: 1, 3: 2, 4: 3 }"
     ],
     "language": "python",
     "metadata": {},
     "outputs": [],
     "prompt_number": 29
    },
    {
     "cell_type": "markdown",
     "metadata": {},
     "source": [
      "The remaining parameters are the current quantity of stock and the store capacities.\n",
      "\n",
      "This is where we begin to use the pandas Series and DataFrame types, which will allow for convenient slicing and aggregation during the modeling of problem constraints later on."
     ]
    },
    {
     "cell_type": "code",
     "collapsed": false,
     "input": [
      "current_stock = [\n",
      "    { 'stock': 'A', 'store': 1, 'quantity': 2. },\n",
      "    { 'stock': 'B', 'store': 1, 'quantity': 3. },\n",
      "    { 'stock': 'C', 'store': 4, 'quantity': 1. } ]\n",
      "\n",
      "current_stock = pd.DataFrame.from_records(current_stock, index=('stock','store'))['quantity']\n",
      "\n",
      "print 'CURRENT STOCK\\n', current_stock\n",
      "\n",
      "store_capacity = [\n",
      "        { 'store': 1, 'capacity': 100. },\n",
      "        { 'store': 2, 'capacity': 100. },\n",
      "        { 'store': 3, 'capacity': 10. },\n",
      "        { 'store': 4, 'capacity': 10. } ]\n",
      "\n",
      "store_capacity = pd.DataFrame.from_records(store_capacity, index=('store'))['capacity']\n",
      "\n",
      "print 'STORE CAPACITY\\n', store_capacity"
     ],
     "language": "python",
     "metadata": {},
     "outputs": [
      {
       "output_type": "stream",
       "stream": "stdout",
       "text": [
        "CURRENT STOCK\n",
        "stock  store\n",
        "A      1        2\n",
        "B      1        3\n",
        "C      4        1\n",
        "Name: quantity, dtype: float64\n",
        "STORE CAPACITY\n",
        "store\n",
        "1        100\n",
        "2        100\n",
        "3         10\n",
        "4         10\n",
        "Name: capacity, dtype: float64\n"
       ]
      }
     ],
     "prompt_number": 35
    },
    {
     "cell_type": "markdown",
     "metadata": {},
     "source": [
      "We populated our problem data using pandas DataFrames from a set of records (dicts).  Multi-dimensional data is often available, e.g., from data services in the form of records. \n",
      "\n",
      "To continue, we extract Series data, which more readily support algebraic operations for the generation of constraints."
     ]
    },
    {
     "cell_type": "code",
     "collapsed": false,
     "input": [
      "# problem variables\n",
      "inventory_multiplier = cvxpy.Variable(name='y')\n",
      "\n",
      "# helper variables  \n",
      "additional_stock = [\n",
      "    { 'stock': stock, 'store': store, 'quantity': cvxpy.Variable(name='x[%s,%d]' % (stock,store) ) }\n",
      "    for stock in STOCKS for store in STORES ]\n",
      "additional_stock = pd.DataFrame.from_records(additional_stock, index=('stock','store'))['quantity']"
     ],
     "language": "python",
     "metadata": {},
     "outputs": [],
     "prompt_number": 27
    },
    {
     "cell_type": "code",
     "collapsed": false,
     "input": [
      "# derived\n",
      "total_stock = current_stock.add(additional_stock, fill_value=0.)\n",
      "\n",
      "current_stock_by_type = current_stock.reset_index().groupby('stock')['quantity'].sum()\n",
      "total_stock_by_type = total_stock.reset_index().groupby('stock')['quantity'].sum()\n",
      "total_stock_by_store = total_stock.reset_index().groupby('store')['quantity'].sum()\n",
      "\n",
      "current_stock_by_type_scaled = current_stock_by_type.apply( lambda x : x * inventory_multiplier )"
     ],
     "language": "python",
     "metadata": {},
     "outputs": [],
     "prompt_number": 16
    },
    {
     "cell_type": "code",
     "collapsed": false,
     "input": [
      "# problem setup\n",
      "objective = cvxpy.Maximize(inventory_multiplier)\n",
      "\n",
      "constr = []\n"
     ],
     "language": "python",
     "metadata": {},
     "outputs": [],
     "prompt_number": 17
    },
    {
     "cell_type": "code",
     "collapsed": false,
     "input": [
      "# scaling constraints\n",
      "vec_eq = np.vectorize( lambda a,b : a == b )\n",
      "constr.extend( c for c in vec_eq( total_stock_by_type, current_stock_by_type_scaled ) )\n"
     ],
     "language": "python",
     "metadata": {},
     "outputs": [],
     "prompt_number": 18
    },
    {
     "cell_type": "code",
     "collapsed": false,
     "input": [
      "# non-neg: no, see if we can reproduce the bullshit result\n",
      "vec_geq = np.vectorize( lambda a,b : a >= b )\n",
      "constr.extend( c for c in vec_geq( additional_stock, 0. ) )\n"
     ],
     "language": "python",
     "metadata": {},
     "outputs": []
    },
    {
     "cell_type": "code",
     "collapsed": false,
     "input": [
      "\n",
      "# total capacity constraints\n",
      "vec_leq = np.vectorize( lambda a,b : a <= b )\n",
      "constr.extend( c for c in vec_leq( total_stock_by_store, store_capacity ) )\n"
     ],
     "language": "python",
     "metadata": {},
     "outputs": []
    },
    {
     "cell_type": "code",
     "collapsed": false,
     "input": [
      "\n",
      "# categorical constraints\n",
      "constr.extend( additional_stock[stock,store] <= 0.\n",
      "    for stock in STOCKS for store in STORES\n",
      "    if store_priority[store] < stock_priority[stock] )\n"
     ],
     "language": "python",
     "metadata": {},
     "outputs": []
    },
    {
     "cell_type": "code",
     "collapsed": false,
     "input": [
      "p = cvxpy.Problem(objective, constr)\n",
      "p.solve(solver=cvxpy.CVXOPT)\n"
     ],
     "language": "python",
     "metadata": {},
     "outputs": [
      {
       "metadata": {},
       "output_type": "pyout",
       "prompt_number": 24,
       "text": [
        "5.749999993062841"
       ]
      }
     ],
     "prompt_number": 24
    },
    {
     "cell_type": "code",
     "collapsed": false,
     "input": [],
     "language": "python",
     "metadata": {},
     "outputs": [],
     "prompt_number": 24
    },
    {
     "cell_type": "code",
     "collapsed": false,
     "input": [],
     "language": "python",
     "metadata": {},
     "outputs": []
    }
   ],
   "metadata": {}
  }
 ]
}