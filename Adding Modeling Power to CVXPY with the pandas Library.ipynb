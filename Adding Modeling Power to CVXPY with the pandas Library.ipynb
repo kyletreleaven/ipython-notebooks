{
 "metadata": {
  "name": "",
  "signature": "sha256:e7b8c7dad1e4679e7e5cec8b9f7fbc7b339574a2cb7238af766d578e36627b28"
 },
 "nbformat": 3,
 "nbformat_minor": 0,
 "worksheets": [
  {
   "cells": [
    {
     "cell_type": "heading",
     "level": 1,
     "metadata": {},
     "source": [
      "Introduction"
     ]
    },
    {
     "cell_type": "markdown",
     "metadata": {},
     "source": [
      "\"[CVXPY](http://www.cvxpy.org) is a Python-embedded modeling language for convex optimization problems.\n",
      "It allows you to express your problem in a natural way that follows the math, rather than in the restrictive standard form required by solvers.\""
     ]
    },
    {
     "cell_type": "markdown",
     "metadata": {},
     "source": [
      "CVXPY has done a tremendous job in my opinion of bridging the skills gap between the researchers who are focused on solvers, and the programmers and domain experts who are focused on solving problems.  CVXPY provides the essential features of an [algebraic modeling language](http://en.wikipedia.org/wiki/Algebraic_modeling_language), similar to AMPL, MathProg, or others, while remaining entirely native to the \"batteries-included\" Python eco-system."
     ]
    },
    {
     "cell_type": "markdown",
     "metadata": {},
     "source": [
      "\"[pandas](http://pandas.pydata.org/) is an open source, BSD-licensed library providing high-performance, easy-to-use data structures and data analysis tools for the Python programming language.\""
     ]
    },
    {
     "cell_type": "markdown",
     "metadata": {},
     "source": [
      "Both CVXPY and pandas have been designed painstakingly to play nicely with the Python general-purpose, scientific computing eco-system based around [NumPy](http://www.numpy.org).  As a result, CVXPY and pandas also play nicely with each other!\n",
      "\n",
      "At the time of this writing, I was able to find several codes on the internet that utilize CVXPY and pandas in the same program.  However, in all of those examples, CVXPY was responsible entirely for model construction, and pandas was simply used to move problem data between various data sources."
     ]
    },
    {
     "cell_type": "markdown",
     "metadata": {},
     "source": [
      "In this notebook, I want to demonstrate that we can actually exploit synergy between pandas and NumPy to add power to the CVXPY modeling language!\n",
      "\n",
      "As a data analysis framework, pandas is influenced in many places by concepts from [relational data modeling](http://en.wikipedia.org/wiki/Relational_model), which have guided data storage and query technologies for a few decades.\n",
      "\n",
      "What seems to have gone un-noticed is that the same principals that facilitate slicing and aggregation of data in structured query languages (SQLs) are also useful for the construction of expression and constraint models in mathematical programs!"
     ]
    },
    {
     "cell_type": "heading",
     "level": 1,
     "metadata": {},
     "source": [
      "Motivating Example"
     ]
    },
    {
     "cell_type": "markdown",
     "metadata": {},
     "source": [
      "In this notebook, we will solve an example problem using NumPy, CVXPY, and pandas together in a coherent way.  Let's introduce the problem below:"
     ]
    },
    {
     "cell_type": "heading",
     "level": 2,
     "metadata": {},
     "source": [
      "Stock Scaling Problem"
     ]
    },
    {
     "cell_type": "markdown",
     "metadata": {},
     "source": [
      "We are in charge of a warehouse that holds various types of stock, $S = \\{ s^1, s^2, \\ldots, s^m \\}$.\n",
      "At our disposal is a finite set of stores, $T = \\{ t^1, t^2, \\ldots, t^n \\}$.\n",
      "\n",
      "We want to fill the warehouse up as much as possible, however, we have some constraints:\n",
      "First, the stores themselves have finite capacity, so that at most $c[t]$ total quantity of stock may be stored at $t$.\n",
      "Second, we impose some \"priority\" constraints.\n",
      "That is, suppose that stock of type $s \\in S$ has priority $\\phi_S[s]$.\n",
      "A store $t$ in turn may be rated for stock of priority up to $\\phi_T[t]$, so that\n",
      "we only wish to place stock of type $s$ into a store $t$ as long as the rating of $t$ is high enough, i.e., $\\phi_T[t] \\geq \\phi_S[s]$.\n",
      "The priorities $\\phi_S$ and $\\phi_T$ are given.\n",
      "\n",
      "Suppose also that we have already received some quantity of stock, and placed it in stores.\n",
      "Let $q$ denote the existing storage profile, so that $q[s,t]$ is the amount of stock $s \\in S$ already at a store $t \\in T$.\n",
      "(Note, the existing stock need not satisfy the priority constraints!)\n",
      "Finally, we can only order stock of each type in a particular proportion; that proportion could be given, but we will infer it from the current storage profile."
     ]
    },
    {
     "cell_type": "heading",
     "level": 3,
     "metadata": {},
     "source": [
      "Formulation"
     ]
    },
    {
     "cell_type": "markdown",
     "metadata": {},
     "source": [
      "Letting $x$ denote the matrix variable representing new stock, and letting $y$ denote a variable of proportionality, we can write the problem above as:\n",
      "\n",
      "Maximize $y$\n",
      "\n",
      "subject to proportionality constraints:\n",
      "\n",
      "$\\sum_{t \\in T} x[s,t] = y \\, \\sum_{t \\in T} q[s,t]$ for all $s \\in S$,\n",
      "\n",
      "subject to capacity constraints:\n",
      "\n",
      "$\\sum_{s \\in S} q[s,t] + x[s,t] \\leq c[t]$ for all $t \\in T$,\n",
      "\n",
      "and subject to priority constraints:\n",
      "\n",
      "$x[s,t] \\leq 0$ for any $s,t$ where $\\phi_T[t] < \\phi_S[s]$."
     ]
    },
    {
     "cell_type": "heading",
     "level": 2,
     "metadata": {},
     "source": [
      "Discussion"
     ]
    },
    {
     "cell_type": "markdown",
     "metadata": {},
     "source": [
      "What does this problem provide that necessitates the use of pandas?  Well, nothing really.  However, note that the three types of constraints slice and/or aggregate the matrix variable in three different ways, namely: by $t$, by $s$, and not at all, respectively.  We could certainly collect these constraints on our own, but pandas can make life easier!"
     ]
    },
    {
     "cell_type": "heading",
     "level": 1,
     "metadata": {},
     "source": [
      "Modeling in Python with CVXPY and pandas"
     ]
    },
    {
     "cell_type": "code",
     "collapsed": false,
     "input": [
      "import numpy as np\n",
      "import cvxpy\n",
      "import pandas as pd"
     ],
     "language": "python",
     "metadata": {},
     "outputs": [],
     "prompt_number": 20
    },
    {
     "cell_type": "heading",
     "level": 3,
     "metadata": {},
     "source": [
      "Problem Domain"
     ]
    },
    {
     "cell_type": "markdown",
     "metadata": {},
     "source": [
      "Let's define the types of stock and the stores."
     ]
    },
    {
     "cell_type": "code",
     "collapsed": false,
     "input": [
      "TYPES = ['A','B','C']\n",
      "STORES = [ 1, 2, 3, 4 ]"
     ],
     "language": "python",
     "metadata": {},
     "outputs": [],
     "prompt_number": 21
    },
    {
     "cell_type": "markdown",
     "metadata": {},
     "source": [
      "And here are the the stock priorities and the store priority ratings as well."
     ]
    },
    {
     "cell_type": "code",
     "collapsed": false,
     "input": [
      "# stock of priority x must be inducted to a store of priority >= x\n",
      "type_priority = { 'A': 1, 'B': 2, 'C': 3 }\n",
      "store_priority = { 1: 1, 2: 1, 3: 2, 4: 3 }"
     ],
     "language": "python",
     "metadata": {},
     "outputs": [],
     "prompt_number": 22
    },
    {
     "cell_type": "markdown",
     "metadata": {},
     "source": [
      "The reader may verify this encoding implies:  stock of type A is allowed anywhere, stock of type B is allowed in stores 3 and 4, and stock of type C may only go into store 4."
     ]
    },
    {
     "cell_type": "heading",
     "level": 3,
     "metadata": {},
     "source": [
      "Problem Data"
     ]
    },
    {
     "cell_type": "markdown",
     "metadata": {},
     "source": [
      "This is where we begin to use the pandas Series and DataFrame types, which will allow for convenient slicing and aggregation during the modeling of problem constraints later on.\n",
      "\n",
      "Multi-dimensional data is often available, e.g., from data services, in the form of records, so we populate our problem data using pandas DataFrames from a list of dictionaries.  These values have been chosen arbitrarily."
     ]
    },
    {
     "cell_type": "code",
     "collapsed": false,
     "input": [
      "current_stock = [\n",
      "    { 'type': 'A', 'store': 1, 'quantity': 2. },\n",
      "    { 'type': 'B', 'store': 1, 'quantity': 3. },\n",
      "    { 'type': 'C', 'store': 4, 'quantity': 1. } ]\n",
      "\n",
      "current_stock = pd.DataFrame.from_records(current_stock, index=('type','store'))['quantity']\n",
      "\n",
      "print 'CURRENT STOCK\\n', current_stock\n",
      "\n",
      "store_capacity = [\n",
      "        { 'store': 1, 'capacity': 100. },\n",
      "        { 'store': 2, 'capacity': 100. },\n",
      "        { 'store': 3, 'capacity': 10. },\n",
      "        { 'store': 4, 'capacity': 10. } ]\n",
      "\n",
      "store_capacity = pd.DataFrame.from_records(store_capacity, index=('store'))['capacity']\n",
      "\n",
      "print 'STORE CAPACITY\\n', store_capacity"
     ],
     "language": "python",
     "metadata": {},
     "outputs": [
      {
       "output_type": "stream",
       "stream": "stdout",
       "text": [
        "CURRENT STOCK\n",
        "type  store\n",
        "A     1        2\n",
        "B     1        3\n",
        "C     4        1\n",
        "Name: quantity, dtype: float64\n",
        "STORE CAPACITY\n",
        "store\n",
        "1        100\n",
        "2        100\n",
        "3         10\n",
        "4         10\n",
        "Name: capacity, dtype: float64\n"
       ]
      }
     ],
     "prompt_number": 23
    },
    {
     "cell_type": "markdown",
     "metadata": {},
     "source": [
      "Note that we extract Series data, which more readily support algebraic operations for the generation of constraints."
     ]
    },
    {
     "cell_type": "heading",
     "level": 3,
     "metadata": {},
     "source": [
      "Problem Variables"
     ]
    },
    {
     "cell_type": "markdown",
     "metadata": {},
     "source": [
      "The essential insight moving forward is to realize that the pandas Series and DataFrame classes are robust enough to contain the CVXPY objects, like variables, expressions, and constraints, as their data.\n",
      "\n",
      "Below, we construct a pandas Series containing new CVXPY variables representing additional stock.  We use the stock type and store as natural indices for the series."
     ]
    },
    {
     "cell_type": "code",
     "collapsed": false,
     "input": [
      "additional_stock = [\n",
      "    { 'type': t, 'store': store, 'quantity': cvxpy.Variable(name='x[%s,%d]' % (t,store) ) }\n",
      "    for t in TYPES for store in STORES ]\n",
      "additional_stock = pd.DataFrame.from_records(additional_stock, index=('type','store'))['quantity']\n",
      "\n",
      "print additional_stock"
     ],
     "language": "python",
     "metadata": {},
     "outputs": [
      {
       "output_type": "stream",
       "stream": "stdout",
       "text": [
        "type  store\n",
        "A     1        x[A,1]\n",
        "      2        x[A,2]\n",
        "      3        x[A,3]\n",
        "      4        x[A,4]\n",
        "B     1        x[B,1]\n",
        "      2        x[B,2]\n",
        "      3        x[B,3]\n",
        "      4        x[B,4]\n",
        "C     1        x[C,1]\n",
        "      2        x[C,2]\n",
        "      3        x[C,3]\n",
        "      4        x[C,4]\n",
        "Name: quantity, dtype: object\n"
       ]
      }
     ],
     "prompt_number": 24
    },
    {
     "cell_type": "markdown",
     "metadata": {},
     "source": [
      "We can obtain another pandas Series representing the total stock (current + additional) by adding them together."
     ]
    },
    {
     "cell_type": "code",
     "collapsed": false,
     "input": [
      "total_stock = current_stock.add(additional_stock, fill_value=0.)"
     ],
     "language": "python",
     "metadata": {},
     "outputs": [],
     "prompt_number": 25
    },
    {
     "cell_type": "markdown",
     "metadata": {},
     "source": [
      "Next we produce Series representing the slice sums:"
     ]
    },
    {
     "cell_type": "code",
     "collapsed": false,
     "input": [
      "current_stock_by_type = current_stock.reset_index().groupby('type')['quantity'].sum()\n",
      "print 'CURRENT STOCK BY TYPE,\\n', current_stock_by_type\n",
      "\n",
      "total_stock_by_type = total_stock.reset_index().groupby('type')['quantity'].sum()\n",
      "print 'TOTAL STOCK BY TYPE,\\n', total_stock_by_type\n",
      "\n",
      "total_stock_by_store = total_stock.reset_index().groupby('store')['quantity'].sum()\n",
      "print 'TOTAL STOCK BY STORE,\\n', total_stock_by_store"
     ],
     "language": "python",
     "metadata": {},
     "outputs": [
      {
       "output_type": "stream",
       "stream": "stdout",
       "text": [
        "CURRENT STOCK BY TYPE,\n",
        "type\n",
        "A       2\n",
        "B       3\n",
        "C       1\n",
        "Name: quantity, dtype: float64\n",
        "TOTAL STOCK BY TYPE,\n",
        "type\n",
        "A       2.0 + x[A,1] + 0.0 + x[A,2] + 0.0 + x[A,3] + 0...\n",
        "B       3.0 + x[B,1] + 0.0 + x[B,2] + 0.0 + x[B,3] + 0...\n",
        "C       0.0 + x[C,1] + 0.0 + x[C,2] + 0.0 + x[C,3] + 1...\n",
        "Name: quantity, dtype: object\n",
        "TOTAL STOCK BY STORE,\n",
        "store\n",
        "1        2.0 + x[A,1] + 3.0 + x[B,1] + 0.0 + x[C,1]\n",
        "2        0.0 + x[A,2] + 0.0 + x[B,2] + 0.0 + x[C,2]\n",
        "3        0.0 + x[A,3] + 0.0 + x[B,3] + 0.0 + x[C,3]\n",
        "4        0.0 + x[A,4] + 0.0 + x[B,4] + 1.0 + x[C,4]\n",
        "Name: quantity, dtype: object\n"
       ]
      }
     ],
     "prompt_number": 26
    },
    {
     "cell_type": "markdown",
     "metadata": {},
     "source": [
      "And we obtain a scaled version of the current stock by type, defining the \"constant\" of proportionality as a problem variable."
     ]
    },
    {
     "cell_type": "code",
     "collapsed": false,
     "input": [
      "inventory_multiplier = cvxpy.Variable(name='y')\n",
      "\n",
      "current_stock_by_type_scaled = current_stock_by_type.apply( lambda x : x * inventory_multiplier )\n",
      "print 'PROPORTIONAL TO CURRENT STOCK BY TYPE,\\n', current_stock_by_type_scaled"
     ],
     "language": "python",
     "metadata": {},
     "outputs": [
      {
       "output_type": "stream",
       "stream": "stdout",
       "text": [
        "PROPORTIONAL TO CURRENT STOCK BY TYPE,\n",
        "type\n",
        "A       2.0 * y\n",
        "B       3.0 * y\n",
        "C       1.0 * y\n",
        "Name: quantity, dtype: object\n"
       ]
      }
     ],
     "prompt_number": 27
    },
    {
     "cell_type": "heading",
     "level": 2,
     "metadata": {},
     "source": [
      "CVXPY Problem Setup"
     ]
    },
    {
     "cell_type": "markdown",
     "metadata": {},
     "source": [
      "The CVXPY problem is the pair of an objective with problem constraints..."
     ]
    },
    {
     "cell_type": "code",
     "collapsed": false,
     "input": [
      "# problem setup\n",
      "objective = cvxpy.Maximize(inventory_multiplier)\n",
      "\n",
      "constr = []"
     ],
     "language": "python",
     "metadata": {},
     "outputs": [],
     "prompt_number": 28
    },
    {
     "cell_type": "markdown",
     "metadata": {},
     "source": [
      "We can use [NumPy function vectorization](http://docs.scipy.org/doc/numpy/reference/generated/numpy.vectorize.html) to populate our list of constraints:"
     ]
    },
    {
     "cell_type": "code",
     "collapsed": false,
     "input": [
      "# proportionality constraints\n",
      "vec_eq = np.vectorize( lambda a,b : a == b )\n",
      "constr.extend( c for c in vec_eq( total_stock_by_type, current_stock_by_type_scaled ) )"
     ],
     "language": "python",
     "metadata": {},
     "outputs": [],
     "prompt_number": 29
    },
    {
     "cell_type": "code",
     "collapsed": false,
     "input": [
      "# total capacity constraints\n",
      "vec_leq = np.vectorize( lambda a,b : a <= b )\n",
      "constr.extend( c for c in vec_leq( total_stock_by_store, store_capacity ) )"
     ],
     "language": "python",
     "metadata": {},
     "outputs": [],
     "prompt_number": 30
    },
    {
     "cell_type": "code",
     "collapsed": false,
     "input": [
      "# categorical constraints\n",
      "constr.extend( additional_stock[t,store] <= 0.\n",
      "    for t in TYPES for store in STORES\n",
      "    if store_priority[store] < type_priority[t] )"
     ],
     "language": "python",
     "metadata": {},
     "outputs": [],
     "prompt_number": 31
    },
    {
     "cell_type": "code",
     "collapsed": false,
     "input": [
      "# [trivial] non-negativity constraints\n",
      "vec_geq = np.vectorize( lambda a,b : a >= b )\n",
      "constr.extend( c for c in vec_geq( additional_stock, 0. ) )"
     ],
     "language": "python",
     "metadata": {},
     "outputs": [],
     "prompt_number": 32
    },
    {
     "cell_type": "markdown",
     "metadata": {},
     "source": [
      "Let's see what NumPy and pandas have done for us."
     ]
    },
    {
     "cell_type": "code",
     "collapsed": false,
     "input": [
      "for c in constr : print c"
     ],
     "language": "python",
     "metadata": {},
     "outputs": [
      {
       "output_type": "stream",
       "stream": "stdout",
       "text": [
        "2.0 + x[A,1] + 0.0 + x[A,2] + 0.0 + x[A,3] + 0.0 + x[A,4] == 2.0 * y\n",
        "3.0 + x[B,1] + 0.0 + x[B,2] + 0.0 + x[B,3] + 0.0 + x[B,4] == 3.0 * y\n",
        "0.0 + x[C,1] + 0.0 + x[C,2] + 0.0 + x[C,3] + 1.0 + x[C,4] == 1.0 * y\n",
        "2.0 + x[A,1] + 3.0 + x[B,1] + 0.0 + x[C,1] <= 100.0\n",
        "0.0 + x[A,2] + 0.0 + x[B,2] + 0.0 + x[C,2] <= 100.0\n",
        "0.0 + x[A,3] + 0.0 + x[B,3] + 0.0 + x[C,3] <= 10.0\n",
        "0.0 + x[A,4] + 0.0 + x[B,4] + 1.0 + x[C,4] <= 10.0\n",
        "x[B,1] <= 0.0\n",
        "x[B,2] <= 0.0\n",
        "x[C,1] <= 0.0\n",
        "x[C,2] <= 0.0\n",
        "x[C,3] <= 0.0\n",
        "0.0 <= x[A,1]\n",
        "0.0 <= x[A,2]\n",
        "0.0 <= x[A,3]\n",
        "0.0 <= x[A,4]\n",
        "0.0 <= x[B,1]\n",
        "0.0 <= x[B,2]\n",
        "0.0 <= x[B,3]\n",
        "0.0 <= x[B,4]\n",
        "0.0 <= x[C,1]\n",
        "0.0 <= x[C,2]\n",
        "0.0 <= x[C,3]\n",
        "0.0 <= x[C,4]\n"
       ]
      }
     ],
     "prompt_number": 33
    },
    {
     "cell_type": "heading",
     "level": 2,
     "metadata": {},
     "source": [
      "Solution"
     ]
    },
    {
     "cell_type": "markdown",
     "metadata": {},
     "source": [
      "Looks good!  Let's solve."
     ]
    },
    {
     "cell_type": "code",
     "collapsed": false,
     "input": [
      "p = cvxpy.Problem(objective, constr)\n",
      "p.solve(solver=cvxpy.CVXOPT)"
     ],
     "language": "python",
     "metadata": {},
     "outputs": [
      {
       "metadata": {},
       "output_type": "pyout",
       "prompt_number": 34,
       "text": [
        "5.749999993062842"
       ]
      }
     ],
     "prompt_number": 34
    },
    {
     "cell_type": "markdown",
     "metadata": {},
     "source": [
      "We can also use pandas facilities to inspect the resulting solution values."
     ]
    },
    {
     "cell_type": "markdown",
     "metadata": {},
     "source": [
      "For example, we can ensure that the priority constraints are satisfied!"
     ]
    },
    {
     "cell_type": "code",
     "collapsed": false,
     "input": [
      "readable = lambda expr : '%.3f' % expr.value"
     ],
     "language": "python",
     "metadata": {},
     "outputs": [],
     "prompt_number": 35
    },
    {
     "cell_type": "code",
     "collapsed": false,
     "input": [
      "additional_stock.apply(readable)"
     ],
     "language": "python",
     "metadata": {},
     "outputs": [
      {
       "metadata": {},
       "output_type": "pyout",
       "prompt_number": 36,
       "text": [
        "type  store\n",
        "A     1         4.483\n",
        "      2         5.017\n",
        "      3         0.000\n",
        "      4         0.000\n",
        "B     1         0.000\n",
        "      2         0.000\n",
        "      3        10.000\n",
        "      4         4.250\n",
        "C     1         0.000\n",
        "      2         0.000\n",
        "      3         0.000\n",
        "      4         4.750\n",
        "Name: quantity, dtype: object"
       ]
      }
     ],
     "prompt_number": 36
    },
    {
     "cell_type": "markdown",
     "metadata": {},
     "source": [
      "We can also ensure that the proportionality constraints hold."
     ]
    },
    {
     "cell_type": "code",
     "collapsed": false,
     "input": [
      "pd.concat(\n",
      "    [ current_stock_by_type,\n",
      "     current_stock_by_type_scaled.apply(readable), \n",
      "     total_stock_by_type.apply(readable) ],\n",
      "    axis = 1,\n",
      "    keys = ['CURRENT STOCK, by type', 'CURRENT STOCK, scaled', 'TOTAL STOCK'])"
     ],
     "language": "python",
     "metadata": {},
     "outputs": [
      {
       "html": [
        "<div style=\"max-height:1000px;max-width:1500px;overflow:auto;\">\n",
        "<table border=\"1\" class=\"dataframe\">\n",
        "  <thead>\n",
        "    <tr style=\"text-align: right;\">\n",
        "      <th></th>\n",
        "      <th>CURRENT STOCK, by type</th>\n",
        "      <th>CURRENT STOCK, scaled</th>\n",
        "      <th>TOTAL STOCK</th>\n",
        "    </tr>\n",
        "    <tr>\n",
        "      <th>type</th>\n",
        "      <th></th>\n",
        "      <th></th>\n",
        "      <th></th>\n",
        "    </tr>\n",
        "  </thead>\n",
        "  <tbody>\n",
        "    <tr>\n",
        "      <th>A</th>\n",
        "      <td> 2</td>\n",
        "      <td> 11.500</td>\n",
        "      <td> 11.500</td>\n",
        "    </tr>\n",
        "    <tr>\n",
        "      <th>B</th>\n",
        "      <td> 3</td>\n",
        "      <td> 17.250</td>\n",
        "      <td> 17.250</td>\n",
        "    </tr>\n",
        "    <tr>\n",
        "      <th>C</th>\n",
        "      <td> 1</td>\n",
        "      <td>  5.750</td>\n",
        "      <td>  5.750</td>\n",
        "    </tr>\n",
        "  </tbody>\n",
        "</table>\n",
        "</div>"
       ],
       "metadata": {},
       "output_type": "pyout",
       "prompt_number": 39,
       "text": [
        "      CURRENT STOCK, by type CURRENT STOCK, scaled TOTAL STOCK\n",
        "type                                                          \n",
        "A                          2                11.500      11.500\n",
        "B                          3                17.250      17.250\n",
        "C                          1                 5.750       5.750"
       ]
      }
     ],
     "prompt_number": 39
    },
    {
     "cell_type": "markdown",
     "metadata": {},
     "source": [
      "Finally, we can verify that the capacity constraints hold."
     ]
    },
    {
     "cell_type": "code",
     "collapsed": false,
     "input": [
      "pd.concat(\n",
      "    [ total_stock_by_store.apply(readable),\n",
      "     store_capacity],\n",
      "    axis=1,\n",
      "    keys=['TOTAL STOCK, by store', 'STORE CAPACITY'])"
     ],
     "language": "python",
     "metadata": {},
     "outputs": [
      {
       "html": [
        "<div style=\"max-height:1000px;max-width:1500px;overflow:auto;\">\n",
        "<table border=\"1\" class=\"dataframe\">\n",
        "  <thead>\n",
        "    <tr style=\"text-align: right;\">\n",
        "      <th></th>\n",
        "      <th>TOTAL STOCK, by store</th>\n",
        "      <th>STORE CAPACITY</th>\n",
        "    </tr>\n",
        "    <tr>\n",
        "      <th>store</th>\n",
        "      <th></th>\n",
        "      <th></th>\n",
        "    </tr>\n",
        "  </thead>\n",
        "  <tbody>\n",
        "    <tr>\n",
        "      <th>1</th>\n",
        "      <td>  9.483</td>\n",
        "      <td> 100</td>\n",
        "    </tr>\n",
        "    <tr>\n",
        "      <th>2</th>\n",
        "      <td>  5.017</td>\n",
        "      <td> 100</td>\n",
        "    </tr>\n",
        "    <tr>\n",
        "      <th>3</th>\n",
        "      <td> 10.000</td>\n",
        "      <td>  10</td>\n",
        "    </tr>\n",
        "    <tr>\n",
        "      <th>4</th>\n",
        "      <td> 10.000</td>\n",
        "      <td>  10</td>\n",
        "    </tr>\n",
        "  </tbody>\n",
        "</table>\n",
        "</div>"
       ],
       "metadata": {},
       "output_type": "pyout",
       "prompt_number": 40,
       "text": [
        "      TOTAL STOCK, by store  STORE CAPACITY\n",
        "store                                      \n",
        "1                     9.483             100\n",
        "2                     5.017             100\n",
        "3                    10.000              10\n",
        "4                    10.000              10"
       ]
      }
     ],
     "prompt_number": 40
    },
    {
     "cell_type": "code",
     "collapsed": false,
     "input": [],
     "language": "python",
     "metadata": {},
     "outputs": []
    }
   ],
   "metadata": {}
  }
 ]
}