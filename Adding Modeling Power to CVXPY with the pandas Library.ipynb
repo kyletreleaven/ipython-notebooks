{
 "metadata": {
  "name": "",
  "signature": "sha256:33e83855d8e1cc68207931beeadc66249a9a4e27a61fb447298763eb72bdc612"
 },
 "nbformat": 3,
 "nbformat_minor": 0,
 "worksheets": [
  {
   "cells": [
    {
     "cell_type": "heading",
     "level": 1,
     "metadata": {},
     "source": [
      "Introduction"
     ]
    },
    {
     "cell_type": "markdown",
     "metadata": {},
     "source": [
      "\"[CVXPY](http://www.cvxpy.org) is a Python-embedded modeling language for convex optimization problems.\n",
      "It allows you to express your problem in a natural way that follows the math, rather than in the restrictive standard form required by solvers.\""
     ]
    },
    {
     "cell_type": "markdown",
     "metadata": {},
     "source": [
      "CVXPY has done a tremendous job in recent years of bridging the skills gap between the researchers who are focused on solvers, and the programmers and domain experts who are focused on solving problems.  CVXPY provides: 1) a declarative modeling language in terms of object models for the parameters, variables, expressions, and constraints that are used in traditional Mathematical Programming, and 2) utilities to marshall data back-and-forth between constructed models and the standard forms---semantics-free vectors and matrices---recognized by solvers.\n",
      "\n",
      "In this way CVXPY masquerades as an [algebraic modeling language](http://en.wikipedia.org/wiki/Algebraic_modeling_language), similar to AMPL, MathProg, or others, and yet remains entirely native to the \"batteries-included\" Python eco-system."
     ]
    },
    {
     "cell_type": "markdown",
     "metadata": {},
     "source": [
      "\"[pandas](http://pandas.pydata.org/) is an open source, BSD-licensed library providing high-performance, easy-to-use data structures and data analysis tools for the Python programming language.\""
     ]
    },
    {
     "cell_type": "markdown",
     "metadata": {},
     "source": [
      "As a data analysis framework, the pandas library is influenced in many places by concepts from [relational data modeling](http://en.wikipedia.org/wiki/Relational_model), since those concepts have guided data storage and query technologies for a few decades.  What seems to have gone largely un-noticed is that the same principals that facilitate slicing and aggregation of data in structured query languages (SQLs) are also useful for the construction of expressions and constraints in mathematical programs!\n",
      "\n",
      "Both CVXPY and pandas have been painstakingly designed to play nicely with the Python general-purpose, scientific computing eco-system based around [NumPy](http://www.numpy.org).  In this notebook, I want to show that as a result, CVXPY and pandas also play nicely with each other!  To be fair, at the time of this writing, I was able to find several codes on the internet that utilize both CVXPY and pandas in the same program.  However, in all of the examples that I found, CVXPY and pandas did not truly mix: CVXPY was used to construct the problem model, and pandas was simply used to move problem data between various data sources.  What I am suggesting is that we can actually use pandas to add power to our modeling language!"
     ]
    },
    {
     "cell_type": "heading",
     "level": 1,
     "metadata": {},
     "source": [
      "Motivating Example: Stock Scaling Problem"
     ]
    },
    {
     "cell_type": "markdown",
     "metadata": {},
     "source": [
      "In this notebook, we will solve an example problem using NumPy, CVXPY, and pandas together in a coherent way.  Let's introduce the problem below:"
     ]
    },
    {
     "cell_type": "heading",
     "level": 2,
     "metadata": {},
     "source": [
      "Problem"
     ]
    },
    {
     "cell_type": "markdown",
     "metadata": {},
     "source": [
      "We are in charge of a warehouse that holds various types of stock, $S = \\{ s^1, s^2, \\ldots, s^m \\}$.\n",
      "At our disposal is a finite set of stores, $T = \\{ t^1, t^2, \\ldots, t^n \\}$.\n",
      "\n",
      "We want to fill the warehouse up as much as possible, however, we have some constraints:\n",
      "First, the stores themselves have finite capacity, so that at most $c[t]$ total quantity of stock may be stored at $t$.\n",
      "Second, we have some \"priority\" constraints.\n",
      "That is, suppose that stock of type $s \\in S$ has priority $\\phi_S[s]$.\n",
      "Then we only wish to put stock of type $s$ into a store $t$ if it has a priority rating $\\phi_T[t] \\geq \\phi_S[s]$.\n",
      "The priorities $\\phi_S$ and $\\phi_T$ are given.\n",
      "\n",
      "Suppose also that we have already received some quantity of stock, and placed it in stores.\n",
      "Let $q$ denote the existing storage profile, so that $q[s,t]$ is the amount of stock $s \\in S$ already at a store $t \\in T$.\n",
      "(Note, the existing stock need not satisfy the priority constraints!)\n",
      "Finally, we can only order stock of each type in a particular proportion; that proportion could be given, but we will infer it from the current storage profile."
     ]
    },
    {
     "cell_type": "heading",
     "level": 2,
     "metadata": {},
     "source": [
      "Discussion"
     ]
    },
    {
     "cell_type": "markdown",
     "metadata": {},
     "source": [
      "What does this problem provide that necessitates the use of pandas?  Well, the problem does have several classes of constraints that require the problem variables to be sliced and accumulated along different dimensions.  We could certainly do that by hand, but pandas makes the job easier!"
     ]
    },
    {
     "cell_type": "heading",
     "level": 1,
     "metadata": {},
     "source": [
      "Modeling in Python with CVXPY and pandas"
     ]
    },
    {
     "cell_type": "code",
     "collapsed": false,
     "input": [
      "import numpy as np\n",
      "import cvxpy\n",
      "import pandas as pd"
     ],
     "language": "python",
     "metadata": {},
     "outputs": [],
     "prompt_number": 47
    },
    {
     "cell_type": "heading",
     "level": 3,
     "metadata": {},
     "source": [
      "Problem Domain"
     ]
    },
    {
     "cell_type": "markdown",
     "metadata": {},
     "source": [
      "Let's define the types of stock and the stores."
     ]
    },
    {
     "cell_type": "code",
     "collapsed": false,
     "input": [
      "TYPES = ['A','B','C']\n",
      "STORES = [ 1, 2, 3, 4 ]"
     ],
     "language": "python",
     "metadata": {},
     "outputs": [],
     "prompt_number": 48
    },
    {
     "cell_type": "markdown",
     "metadata": {},
     "source": [
      "And here are the the stock priorities and the store priority ratings as well."
     ]
    },
    {
     "cell_type": "code",
     "collapsed": false,
     "input": [
      "# stock of priority x must be inducted to a store of priority >= x\n",
      "type_priority = { 'A': 1, 'B': 2, 'C': 3 }\n",
      "store_priority = { 1: 1, 2: 1, 3: 2, 4: 3 }"
     ],
     "language": "python",
     "metadata": {},
     "outputs": [],
     "prompt_number": 49
    },
    {
     "cell_type": "markdown",
     "metadata": {},
     "source": [
      "The reader may verify this encoding implies:  stock of type A is allowed anywhere, stock of type B is allowed in stores 3 and 4, and stock of type C may only go into store 4."
     ]
    },
    {
     "cell_type": "heading",
     "level": 3,
     "metadata": {},
     "source": [
      "Problem Data"
     ]
    },
    {
     "cell_type": "markdown",
     "metadata": {},
     "source": [
      "This is where we begin to use the pandas Series and DataFrame types, which will allow for convenient slicing and aggregation during the modeling of problem constraints later on.\n",
      "\n",
      "Multi-dimensional data is often available, e.g., from data services, in the form of records, so we populate our problem data using pandas DataFrames from a list of dictionaries."
     ]
    },
    {
     "cell_type": "code",
     "collapsed": false,
     "input": [
      "current_stock = [\n",
      "    { 'type': 'A', 'store': 1, 'quantity': 2. },\n",
      "    { 'type': 'B', 'store': 1, 'quantity': 3. },\n",
      "    { 'type': 'C', 'store': 4, 'quantity': 1. } ]\n",
      "\n",
      "current_stock = pd.DataFrame.from_records(current_stock, index=('type','store'))['quantity']\n",
      "\n",
      "print 'CURRENT STOCK\\n', current_stock\n",
      "\n",
      "store_capacity = [\n",
      "        { 'store': 1, 'capacity': 100. },\n",
      "        { 'store': 2, 'capacity': 100. },\n",
      "        { 'store': 3, 'capacity': 10. },\n",
      "        { 'store': 4, 'capacity': 10. } ]\n",
      "\n",
      "store_capacity = pd.DataFrame.from_records(store_capacity, index=('store'))['capacity']\n",
      "\n",
      "print 'STORE CAPACITY\\n', store_capacity"
     ],
     "language": "python",
     "metadata": {},
     "outputs": [
      {
       "output_type": "stream",
       "stream": "stdout",
       "text": [
        "CURRENT STOCK\n",
        "type  store\n",
        "A     1        2\n",
        "B     1        3\n",
        "C     4        1\n",
        "Name: quantity, dtype: float64\n",
        "STORE CAPACITY\n",
        "store\n",
        "1        100\n",
        "2        100\n",
        "3         10\n",
        "4         10\n",
        "Name: capacity, dtype: float64\n"
       ]
      }
     ],
     "prompt_number": 50
    },
    {
     "cell_type": "markdown",
     "metadata": {},
     "source": [
      "Note that we extract Series data, which more readily support algebraic operations for the generation of constraints."
     ]
    },
    {
     "cell_type": "heading",
     "level": 3,
     "metadata": {},
     "source": [
      "Problem Variables"
     ]
    },
    {
     "cell_type": "code",
     "collapsed": false,
     "input": [
      "additional_stock = [\n",
      "    { 'type': t, 'store': store, 'quantity': cvxpy.Variable(name='x[%s,%d]' % (t,store) ) }\n",
      "    for t in TYPES for store in STORES ]\n",
      "additional_stock = pd.DataFrame.from_records(additional_stock, index=('type','store'))['quantity']\n",
      "\n",
      "print additional_stock"
     ],
     "language": "python",
     "metadata": {},
     "outputs": [
      {
       "output_type": "stream",
       "stream": "stdout",
       "text": [
        "type  store\n",
        "A     1        x[A,1]\n",
        "      2        x[A,2]\n",
        "      3        x[A,3]\n",
        "      4        x[A,4]\n",
        "B     1        x[B,1]\n",
        "      2        x[B,2]\n",
        "      3        x[B,3]\n",
        "      4        x[B,4]\n",
        "C     1        x[C,1]\n",
        "      2        x[C,2]\n",
        "      3        x[C,3]\n",
        "      4        x[C,4]\n",
        "Name: quantity, dtype: object\n"
       ]
      }
     ],
     "prompt_number": 51
    },
    {
     "cell_type": "code",
     "collapsed": false,
     "input": [
      "total_stock = current_stock.add(additional_stock, fill_value=0.)"
     ],
     "language": "python",
     "metadata": {},
     "outputs": [],
     "prompt_number": 52
    },
    {
     "cell_type": "code",
     "collapsed": false,
     "input": [
      "current_stock_by_type = current_stock.reset_index().groupby('type')['quantity'].sum()\n",
      "total_stock_by_type = total_stock.reset_index().groupby('type')['quantity'].sum()\n",
      "total_stock_by_store = total_stock.reset_index().groupby('store')['quantity'].sum()"
     ],
     "language": "python",
     "metadata": {},
     "outputs": [],
     "prompt_number": 53
    },
    {
     "cell_type": "code",
     "collapsed": false,
     "input": [
      "inventory_multiplier = cvxpy.Variable(name='y')\n",
      "\n",
      "current_stock_by_type_scaled = current_stock_by_type.apply( lambda x : x * inventory_multiplier )"
     ],
     "language": "python",
     "metadata": {},
     "outputs": [],
     "prompt_number": 54
    },
    {
     "cell_type": "code",
     "collapsed": false,
     "input": [
      "# problem setup\n",
      "objective = cvxpy.Maximize(inventory_multiplier)\n",
      "\n",
      "constr = []"
     ],
     "language": "python",
     "metadata": {},
     "outputs": [],
     "prompt_number": 56
    },
    {
     "cell_type": "code",
     "collapsed": false,
     "input": [
      "# scaling constraints\n",
      "vec_eq = np.vectorize( lambda a,b : a == b )\n",
      "constr.extend( c for c in vec_eq( total_stock_by_type, current_stock_by_type_scaled ) )"
     ],
     "language": "python",
     "metadata": {},
     "outputs": [],
     "prompt_number": 57
    },
    {
     "cell_type": "code",
     "collapsed": false,
     "input": [
      "# total capacity constraints\n",
      "vec_leq = np.vectorize( lambda a,b : a <= b )\n",
      "constr.extend( c for c in vec_leq( total_stock_by_store, store_capacity ) )"
     ],
     "language": "python",
     "metadata": {},
     "outputs": [],
     "prompt_number": 59
    },
    {
     "cell_type": "code",
     "collapsed": false,
     "input": [
      "# categorical constraints\n",
      "constr.extend( additional_stock[stock,store] <= 0.\n",
      "    for stock in STOCKS for store in STORES\n",
      "    if store_priority[store] < stock_priority[stock] )"
     ],
     "language": "python",
     "metadata": {},
     "outputs": [],
     "prompt_number": 61
    },
    {
     "cell_type": "code",
     "collapsed": false,
     "input": [
      "# non-neg: no, see if we can reproduce the bullshit result\n",
      "vec_geq = np.vectorize( lambda a,b : a >= b )\n",
      "constr.extend( c for c in vec_geq( additional_stock, 0. ) )"
     ],
     "language": "python",
     "metadata": {},
     "outputs": [],
     "prompt_number": 62
    },
    {
     "cell_type": "code",
     "collapsed": false,
     "input": [
      "for c in constr : print c"
     ],
     "language": "python",
     "metadata": {},
     "outputs": [
      {
       "output_type": "stream",
       "stream": "stdout",
       "text": [
        "2.0 + x[A,1] + 0.0 + x[A,2] + 0.0 + x[A,3] + 0.0 + x[A,4] == 2.0 * y\n",
        "3.0 + x[B,1] + 0.0 + x[B,2] + 0.0 + x[B,3] + 0.0 + x[B,4] == 3.0 * y\n",
        "0.0 + x[C,1] + 0.0 + x[C,2] + 0.0 + x[C,3] + 1.0 + x[C,4] == 1.0 * y\n",
        "2.0 + x[A,1] + 3.0 + x[B,1] + 0.0 + x[C,1] <= 100.0\n",
        "0.0 + x[A,2] + 0.0 + x[B,2] + 0.0 + x[C,2] <= 100.0\n",
        "0.0 + x[A,3] + 0.0 + x[B,3] + 0.0 + x[C,3] <= 10.0\n",
        "0.0 + x[A,4] + 0.0 + x[B,4] + 1.0 + x[C,4] <= 10.0\n",
        "2.0 + x[A,1] + 3.0 + x[B,1] + 0.0 + x[C,1] <= 100.0\n",
        "0.0 + x[A,2] + 0.0 + x[B,2] + 0.0 + x[C,2] <= 100.0\n",
        "0.0 + x[A,3] + 0.0 + x[B,3] + 0.0 + x[C,3] <= 10.0\n",
        "0.0 + x[A,4] + 0.0 + x[B,4] + 1.0 + x[C,4] <= 10.0\n",
        "x[B,1] <= 0.0\n",
        "x[B,2] <= 0.0\n",
        "x[C,1] <= 0.0\n",
        "x[C,2] <= 0.0\n",
        "x[C,3] <= 0.0\n",
        "x[B,1] <= 0.0\n",
        "x[B,2] <= 0.0\n",
        "x[C,1] <= 0.0\n",
        "x[C,2] <= 0.0\n",
        "x[C,3] <= 0.0\n",
        "0.0 <= x[A,1]\n",
        "0.0 <= x[A,2]\n",
        "0.0 <= x[A,3]\n",
        "0.0 <= x[A,4]\n",
        "0.0 <= x[B,1]\n",
        "0.0 <= x[B,2]\n",
        "0.0 <= x[B,3]\n",
        "0.0 <= x[B,4]\n",
        "0.0 <= x[C,1]\n",
        "0.0 <= x[C,2]\n",
        "0.0 <= x[C,3]\n",
        "0.0 <= x[C,4]\n"
       ]
      }
     ],
     "prompt_number": 63
    },
    {
     "cell_type": "code",
     "collapsed": false,
     "input": [
      "p = cvxpy.Problem(objective, constr)\n",
      "p.solve(solver=cvxpy.CVXOPT)"
     ],
     "language": "python",
     "metadata": {},
     "outputs": [
      {
       "metadata": {},
       "output_type": "pyout",
       "prompt_number": 64,
       "text": [
        "5.749999831313081"
       ]
      }
     ],
     "prompt_number": 64
    },
    {
     "cell_type": "code",
     "collapsed": false,
     "input": [],
     "language": "python",
     "metadata": {},
     "outputs": [],
     "prompt_number": 46
    },
    {
     "cell_type": "code",
     "collapsed": false,
     "input": [],
     "language": "python",
     "metadata": {},
     "outputs": [],
     "prompt_number": 46
    }
   ],
   "metadata": {}
  }
 ]
}